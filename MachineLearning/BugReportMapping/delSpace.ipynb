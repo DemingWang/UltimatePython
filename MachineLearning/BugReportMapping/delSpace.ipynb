{
 "cells": [
  {
   "cell_type": "code",
   "execution_count": 1,
   "metadata": {
    "collapsed": false
   },
   "outputs": [],
   "source": [
    "import pandas as pd\n",
    "from sqlalchemy import create_engine\n",
    "import re\n",
    "from sklearn.feature_extraction.text import CountVectorizer\n",
    "from sklearn.model_selection import train_test_split\n",
    "from sklearn.linear_model import SGDClassifier\n",
    "#from sklearn.neural_network import MLPClassifier\n",
    "\n",
    "from sklearn.pipeline import Pipeline\n",
    "from sklearn.svm import LinearSVC\n",
    "from sklearn.feature_extraction.text import TfidfTransformer\n",
    "from sklearn.multiclass import OneVsRestClassifier\n",
    "import tensorflow as tf\n",
    "\n",
    "pd.options.display.max_seq_items = 2000"
   ]
  },
  {
   "cell_type": "code",
   "execution_count": 2,
   "metadata": {
    "collapsed": true
   },
   "outputs": [],
   "source": [
    "try:\n",
    "    engine = create_engine('mysql+mysqlconnector://root:@localhost:3306/eclipse_platform_ui', echo=False)\n",
    "\n",
    "    df_ui = pd.read_sql_table('bug_and_files', engine)\n",
    "except:\n",
    "    df_ui = pd.read_csv(\"./eclipse_platform_ui.csv\")"
   ]
  },
  {
   "cell_type": "code",
   "execution_count": 3,
   "metadata": {
    "collapsed": false
   },
   "outputs": [
    {
     "data": {
      "text/html": [
       "<div>\n",
       "<table border=\"1\" class=\"dataframe\">\n",
       "  <thead>\n",
       "    <tr style=\"text-align: right;\">\n",
       "      <th></th>\n",
       "      <th>Unnamed: 0</th>\n",
       "      <th>id</th>\n",
       "      <th>bug_id</th>\n",
       "      <th>summary</th>\n",
       "      <th>description</th>\n",
       "      <th>bag_of_word_stemmed</th>\n",
       "      <th>summary_stemmed</th>\n",
       "      <th>description_stemmed</th>\n",
       "      <th>report_time</th>\n",
       "      <th>report_timestamp</th>\n",
       "      <th>status</th>\n",
       "      <th>commit</th>\n",
       "      <th>commit_timestamp</th>\n",
       "      <th>files</th>\n",
       "    </tr>\n",
       "  </thead>\n",
       "  <tbody>\n",
       "    <tr>\n",
       "      <th>0</th>\n",
       "      <td>0</td>\n",
       "      <td>1</td>\n",
       "      <td>384108</td>\n",
       "      <td>Bug 384108  JUnit view icon no longer shows pr...</td>\n",
       "      <td>Build Identifier: Version: Juno Release Build ...</td>\n",
       "      <td>unit junit view icon longer show progress exec...</td>\n",
       "      <td>unit junit view icon longer show progress exec...</td>\n",
       "      <td>build identifi version juno releas build id up...</td>\n",
       "      <td>2012-07-03 03:39:25</td>\n",
       "      <td>1.341300e+09</td>\n",
       "      <td>resolved fixed</td>\n",
       "      <td>5da5952</td>\n",
       "      <td>1.389970e+09</td>\n",
       "      <td>bundles/org.eclipse.e4.ui.workbench/src/org/ec...</td>\n",
       "    </tr>\n",
       "    <tr>\n",
       "      <th>1</th>\n",
       "      <td>1</td>\n",
       "      <td>2</td>\n",
       "      <td>385394</td>\n",
       "      <td>Bug 385394  Performance issue regarding enable...</td>\n",
       "      <td>Build Identifier: Version: 4.2.0 Build id: I20...</td>\n",
       "      <td>perform issu regard enabl state handl menu con...</td>\n",
       "      <td>perform issu regard enabl state handl menu con...</td>\n",
       "      <td>build identifi version build id i20120608 hi c...</td>\n",
       "      <td>2012-07-18 07:41:06</td>\n",
       "      <td>1.342610e+09</td>\n",
       "      <td>resolved fixed</td>\n",
       "      <td>8db6c32</td>\n",
       "      <td>1.389890e+09</td>\n",
       "      <td>bundles/org.eclipse.e4.ui.workbench.renderers....</td>\n",
       "    </tr>\n",
       "    <tr>\n",
       "      <th>2</th>\n",
       "      <td>2</td>\n",
       "      <td>3</td>\n",
       "      <td>423588</td>\n",
       "      <td>Bug 423588  [QuickAccess] Quick Access failure...</td>\n",
       "      <td>I was working in an inner from master.\\n\\nWhen...</td>\n",
       "      <td>quick access quickaccess quick access failur d...</td>\n",
       "      <td>quick access quickaccess quick access failur d...</td>\n",
       "      <td>work inner master restart workspac editor open...</td>\n",
       "      <td>2013-12-09 08:48:44</td>\n",
       "      <td>1.386600e+09</td>\n",
       "      <td>resolved fixed</td>\n",
       "      <td>6750d25</td>\n",
       "      <td>1.389820e+09</td>\n",
       "      <td>bundles/org.eclipse.ui.workbench/Eclipse UI/or...</td>\n",
       "    </tr>\n",
       "    <tr>\n",
       "      <th>3</th>\n",
       "      <td>3</td>\n",
       "      <td>4</td>\n",
       "      <td>420238</td>\n",
       "      <td>Bug 420238  [CSS] Reduce whitespace usage in t...</td>\n",
       "      <td>One of the major complains I hear is that the ...</td>\n",
       "      <td>cs reduc whitespac usag default theme one majo...</td>\n",
       "      <td>cs reduc whitespac usag default theme</td>\n",
       "      <td>one major complain hear new style wast lot spa...</td>\n",
       "      <td>2013-10-24 04:08:35</td>\n",
       "      <td>1.382600e+09</td>\n",
       "      <td>verified fixed</td>\n",
       "      <td>7710840</td>\n",
       "      <td>1.389800e+09</td>\n",
       "      <td>bundles/org.eclipse.e4.ui.workbench.renderers....</td>\n",
       "    </tr>\n",
       "    <tr>\n",
       "      <th>4</th>\n",
       "      <td>4</td>\n",
       "      <td>5</td>\n",
       "      <td>405216</td>\n",
       "      <td>Bug 405216  Widget disposed exception in Progr...</td>\n",
       "      <td>I have a job that sets the IProgressConstants....</td>\n",
       "      <td>widget dispos except progress info item progre...</td>\n",
       "      <td>widget dispos except progress info item progre...</td>\n",
       "      <td>job set progress constant iprogressconst actio...</td>\n",
       "      <td>2013-04-08 18:21:10</td>\n",
       "      <td>1.365460e+09</td>\n",
       "      <td>resolved fixed</td>\n",
       "      <td>470f274</td>\n",
       "      <td>1.389720e+09</td>\n",
       "      <td>bundles/org.eclipse.ui.workbench/Eclipse UI/or...</td>\n",
       "    </tr>\n",
       "  </tbody>\n",
       "</table>\n",
       "</div>"
      ],
      "text/plain": [
       "   Unnamed: 0  id  bug_id                                            summary  \\\n",
       "0           0   1  384108  Bug 384108  JUnit view icon no longer shows pr...   \n",
       "1           1   2  385394  Bug 385394  Performance issue regarding enable...   \n",
       "2           2   3  423588  Bug 423588  [QuickAccess] Quick Access failure...   \n",
       "3           3   4  420238  Bug 420238  [CSS] Reduce whitespace usage in t...   \n",
       "4           4   5  405216  Bug 405216  Widget disposed exception in Progr...   \n",
       "\n",
       "                                         description  \\\n",
       "0  Build Identifier: Version: Juno Release Build ...   \n",
       "1  Build Identifier: Version: 4.2.0 Build id: I20...   \n",
       "2  I was working in an inner from master.\\n\\nWhen...   \n",
       "3  One of the major complains I hear is that the ...   \n",
       "4  I have a job that sets the IProgressConstants....   \n",
       "\n",
       "                                 bag_of_word_stemmed  \\\n",
       "0  unit junit view icon longer show progress exec...   \n",
       "1  perform issu regard enabl state handl menu con...   \n",
       "2  quick access quickaccess quick access failur d...   \n",
       "3  cs reduc whitespac usag default theme one majo...   \n",
       "4  widget dispos except progress info item progre...   \n",
       "\n",
       "                                     summary_stemmed  \\\n",
       "0  unit junit view icon longer show progress exec...   \n",
       "1  perform issu regard enabl state handl menu con...   \n",
       "2  quick access quickaccess quick access failur d...   \n",
       "3              cs reduc whitespac usag default theme   \n",
       "4  widget dispos except progress info item progre...   \n",
       "\n",
       "                                 description_stemmed          report_time  \\\n",
       "0  build identifi version juno releas build id up...  2012-07-03 03:39:25   \n",
       "1  build identifi version build id i20120608 hi c...  2012-07-18 07:41:06   \n",
       "2  work inner master restart workspac editor open...  2013-12-09 08:48:44   \n",
       "3  one major complain hear new style wast lot spa...  2013-10-24 04:08:35   \n",
       "4  job set progress constant iprogressconst actio...  2013-04-08 18:21:10   \n",
       "\n",
       "   report_timestamp          status   commit  commit_timestamp  \\\n",
       "0      1.341300e+09  resolved fixed  5da5952      1.389970e+09   \n",
       "1      1.342610e+09  resolved fixed  8db6c32      1.389890e+09   \n",
       "2      1.386600e+09  resolved fixed  6750d25      1.389820e+09   \n",
       "3      1.382600e+09  verified fixed  7710840      1.389800e+09   \n",
       "4      1.365460e+09  resolved fixed  470f274      1.389720e+09   \n",
       "\n",
       "                                               files  \n",
       "0  bundles/org.eclipse.e4.ui.workbench/src/org/ec...  \n",
       "1  bundles/org.eclipse.e4.ui.workbench.renderers....  \n",
       "2  bundles/org.eclipse.ui.workbench/Eclipse UI/or...  \n",
       "3  bundles/org.eclipse.e4.ui.workbench.renderers....  \n",
       "4  bundles/org.eclipse.ui.workbench/Eclipse UI/or...  "
      ]
     },
     "execution_count": 3,
     "metadata": {},
     "output_type": "execute_result"
    }
   ],
   "source": [
    "df_ui.head(5)"
   ]
  },
  {
   "cell_type": "code",
   "execution_count": 4,
   "metadata": {
    "collapsed": false
   },
   "outputs": [
    {
     "data": {
      "text/plain": [
       "'bundles/org.eclipse.e4.ui.workbench.renderers.swt/src/org/eclipse/e4/ui/workbench/renderers/swt/HandledContributionItem.java\\nbundles/org.eclipse.e4.ui.workbench.renderers.swt/src/org/eclipse/e4/ui/workbench/renderers/swt/MenuManagerRenderer.java\\nbundles/org.eclipse.e4.ui.workbench.renderers.swt/src/org/eclipse/e4/ui/workbench/renderers/swt/ToolBarContributionRecord.java\\nbundles/org.eclipse.e4.ui.workbench.renderers.swt/src/org/eclipse/e4/ui/workbench/renderers/swt/ToolBarManagerRenderer.java\\nbundles/org.eclipse.e4.ui.workbench.renderers.swt/src/org/eclipse/e4/ui/workbench/renderers/swt/ToolItemUpdater.java\\nbundles/org.eclipse.ui.workbench/Eclipse UI/org/eclipse/ui/internal/WorkbenchWindow.java\\nbundles/org.eclipse.ui.workbench/Eclipse UI/org/eclipse/ui/internal/services/EvaluationService.java'"
      ]
     },
     "execution_count": 4,
     "metadata": {},
     "output_type": "execute_result"
    }
   ],
   "source": [
    "df_ui['files'].iloc[1]"
   ]
  },
  {
   "cell_type": "code",
   "execution_count": 5,
   "metadata": {
    "collapsed": false
   },
   "outputs": [
    {
     "data": {
      "text/plain": [
       "(6495, 14)"
      ]
     },
     "execution_count": 5,
     "metadata": {},
     "output_type": "execute_result"
    }
   ],
   "source": [
    "df_ui.shape"
   ]
  },
  {
   "cell_type": "code",
   "execution_count": 20,
   "metadata": {
    "collapsed": false
   },
   "outputs": [
    {
     "data": {
      "text/plain": [
       "'bundles/org.eclipse.e4.ui.workbench.renderers.swt/src/org/eclipse/e4/ui/workbench/renderers/swt/HandledContributionItem.java\\nbundles/org.eclipse.e4.ui.workbench.renderers.swt/src/org/eclipse/e4/ui/workbench/renderers/swt/MenuManagerRenderer.java\\nbundles/org.eclipse.e4.ui.workbench.renderers.swt/src/org/eclipse/e4/ui/workbench/renderers/swt/ToolBarContributionRecord.java\\nbundles/org.eclipse.e4.ui.workbench.renderers.swt/src/org/eclipse/e4/ui/workbench/renderers/swt/ToolBarManagerRenderer.java\\nbundles/org.eclipse.e4.ui.workbench.renderers.swt/src/org/eclipse/e4/ui/workbench/renderers/swt/ToolItemUpdater.java\\nbundles/org.eclipse.ui.workbench/EclipseUI/org/eclipse/ui/internal/WorkbenchWindow.java\\nbundles/org.eclipse.ui.workbench/EclipseUI/org/eclipse/ui/internal/services/EvaluationService.java'"
      ]
     },
     "execution_count": 20,
     "metadata": {},
     "output_type": "execute_result"
    }
   ],
   "source": [
    "#series_files = df_ui[['files']]\n",
    "series_files = df_ui['files'].apply(lambda s: s.replace(' ', ''))\n",
    "series_files = series_files.rename('files_noSpace')\n",
    "series_files.iloc[1]"
   ]
  },
  {
   "cell_type": "code",
   "execution_count": 19,
   "metadata": {
    "collapsed": false
   },
   "outputs": [
    {
     "data": {
      "text/html": [
       "<div>\n",
       "<table border=\"1\" class=\"dataframe\">\n",
       "  <thead>\n",
       "    <tr style=\"text-align: right;\">\n",
       "      <th></th>\n",
       "      <th>Unnamed: 0</th>\n",
       "      <th>id</th>\n",
       "      <th>bug_id</th>\n",
       "      <th>summary</th>\n",
       "      <th>description</th>\n",
       "      <th>bag_of_word_stemmed</th>\n",
       "      <th>summary_stemmed</th>\n",
       "      <th>description_stemmed</th>\n",
       "      <th>report_time</th>\n",
       "      <th>report_timestamp</th>\n",
       "      <th>status</th>\n",
       "      <th>commit</th>\n",
       "      <th>commit_timestamp</th>\n",
       "      <th>files</th>\n",
       "      <th>files_noSpace</th>\n",
       "    </tr>\n",
       "  </thead>\n",
       "  <tbody>\n",
       "    <tr>\n",
       "      <th>0</th>\n",
       "      <td>0</td>\n",
       "      <td>1</td>\n",
       "      <td>384108</td>\n",
       "      <td>Bug 384108  JUnit view icon no longer shows pr...</td>\n",
       "      <td>Build Identifier: Version: Juno Release Build ...</td>\n",
       "      <td>unit junit view icon longer show progress exec...</td>\n",
       "      <td>unit junit view icon longer show progress exec...</td>\n",
       "      <td>build identifi version juno releas build id up...</td>\n",
       "      <td>2012-07-03 03:39:25</td>\n",
       "      <td>1.341300e+09</td>\n",
       "      <td>resolved fixed</td>\n",
       "      <td>5da5952</td>\n",
       "      <td>1.389970e+09</td>\n",
       "      <td>bundles/org.eclipse.e4.ui.workbench/src/org/ec...</td>\n",
       "      <td>bundles/org.eclipse.e4.ui.workbench/src/org/ec...</td>\n",
       "    </tr>\n",
       "    <tr>\n",
       "      <th>1</th>\n",
       "      <td>1</td>\n",
       "      <td>2</td>\n",
       "      <td>385394</td>\n",
       "      <td>Bug 385394  Performance issue regarding enable...</td>\n",
       "      <td>Build Identifier: Version: 4.2.0 Build id: I20...</td>\n",
       "      <td>perform issu regard enabl state handl menu con...</td>\n",
       "      <td>perform issu regard enabl state handl menu con...</td>\n",
       "      <td>build identifi version build id i20120608 hi c...</td>\n",
       "      <td>2012-07-18 07:41:06</td>\n",
       "      <td>1.342610e+09</td>\n",
       "      <td>resolved fixed</td>\n",
       "      <td>8db6c32</td>\n",
       "      <td>1.389890e+09</td>\n",
       "      <td>bundles/org.eclipse.e4.ui.workbench.renderers....</td>\n",
       "      <td>bundles/org.eclipse.e4.ui.workbench.renderers....</td>\n",
       "    </tr>\n",
       "    <tr>\n",
       "      <th>2</th>\n",
       "      <td>2</td>\n",
       "      <td>3</td>\n",
       "      <td>423588</td>\n",
       "      <td>Bug 423588  [QuickAccess] Quick Access failure...</td>\n",
       "      <td>I was working in an inner from master.\\n\\nWhen...</td>\n",
       "      <td>quick access quickaccess quick access failur d...</td>\n",
       "      <td>quick access quickaccess quick access failur d...</td>\n",
       "      <td>work inner master restart workspac editor open...</td>\n",
       "      <td>2013-12-09 08:48:44</td>\n",
       "      <td>1.386600e+09</td>\n",
       "      <td>resolved fixed</td>\n",
       "      <td>6750d25</td>\n",
       "      <td>1.389820e+09</td>\n",
       "      <td>bundles/org.eclipse.ui.workbench/Eclipse UI/or...</td>\n",
       "      <td>bundles/org.eclipse.ui.workbench/EclipseUI/org...</td>\n",
       "    </tr>\n",
       "    <tr>\n",
       "      <th>3</th>\n",
       "      <td>3</td>\n",
       "      <td>4</td>\n",
       "      <td>420238</td>\n",
       "      <td>Bug 420238  [CSS] Reduce whitespace usage in t...</td>\n",
       "      <td>One of the major complains I hear is that the ...</td>\n",
       "      <td>cs reduc whitespac usag default theme one majo...</td>\n",
       "      <td>cs reduc whitespac usag default theme</td>\n",
       "      <td>one major complain hear new style wast lot spa...</td>\n",
       "      <td>2013-10-24 04:08:35</td>\n",
       "      <td>1.382600e+09</td>\n",
       "      <td>verified fixed</td>\n",
       "      <td>7710840</td>\n",
       "      <td>1.389800e+09</td>\n",
       "      <td>bundles/org.eclipse.e4.ui.workbench.renderers....</td>\n",
       "      <td>bundles/org.eclipse.e4.ui.workbench.renderers....</td>\n",
       "    </tr>\n",
       "    <tr>\n",
       "      <th>4</th>\n",
       "      <td>4</td>\n",
       "      <td>5</td>\n",
       "      <td>405216</td>\n",
       "      <td>Bug 405216  Widget disposed exception in Progr...</td>\n",
       "      <td>I have a job that sets the IProgressConstants....</td>\n",
       "      <td>widget dispos except progress info item progre...</td>\n",
       "      <td>widget dispos except progress info item progre...</td>\n",
       "      <td>job set progress constant iprogressconst actio...</td>\n",
       "      <td>2013-04-08 18:21:10</td>\n",
       "      <td>1.365460e+09</td>\n",
       "      <td>resolved fixed</td>\n",
       "      <td>470f274</td>\n",
       "      <td>1.389720e+09</td>\n",
       "      <td>bundles/org.eclipse.ui.workbench/Eclipse UI/or...</td>\n",
       "      <td>bundles/org.eclipse.ui.workbench/EclipseUI/org...</td>\n",
       "    </tr>\n",
       "  </tbody>\n",
       "</table>\n",
       "</div>"
      ],
      "text/plain": [
       "   Unnamed: 0  id  bug_id                                            summary  \\\n",
       "0           0   1  384108  Bug 384108  JUnit view icon no longer shows pr...   \n",
       "1           1   2  385394  Bug 385394  Performance issue regarding enable...   \n",
       "2           2   3  423588  Bug 423588  [QuickAccess] Quick Access failure...   \n",
       "3           3   4  420238  Bug 420238  [CSS] Reduce whitespace usage in t...   \n",
       "4           4   5  405216  Bug 405216  Widget disposed exception in Progr...   \n",
       "\n",
       "                                         description  \\\n",
       "0  Build Identifier: Version: Juno Release Build ...   \n",
       "1  Build Identifier: Version: 4.2.0 Build id: I20...   \n",
       "2  I was working in an inner from master.\\n\\nWhen...   \n",
       "3  One of the major complains I hear is that the ...   \n",
       "4  I have a job that sets the IProgressConstants....   \n",
       "\n",
       "                                 bag_of_word_stemmed  \\\n",
       "0  unit junit view icon longer show progress exec...   \n",
       "1  perform issu regard enabl state handl menu con...   \n",
       "2  quick access quickaccess quick access failur d...   \n",
       "3  cs reduc whitespac usag default theme one majo...   \n",
       "4  widget dispos except progress info item progre...   \n",
       "\n",
       "                                     summary_stemmed  \\\n",
       "0  unit junit view icon longer show progress exec...   \n",
       "1  perform issu regard enabl state handl menu con...   \n",
       "2  quick access quickaccess quick access failur d...   \n",
       "3              cs reduc whitespac usag default theme   \n",
       "4  widget dispos except progress info item progre...   \n",
       "\n",
       "                                 description_stemmed          report_time  \\\n",
       "0  build identifi version juno releas build id up...  2012-07-03 03:39:25   \n",
       "1  build identifi version build id i20120608 hi c...  2012-07-18 07:41:06   \n",
       "2  work inner master restart workspac editor open...  2013-12-09 08:48:44   \n",
       "3  one major complain hear new style wast lot spa...  2013-10-24 04:08:35   \n",
       "4  job set progress constant iprogressconst actio...  2013-04-08 18:21:10   \n",
       "\n",
       "   report_timestamp          status   commit  commit_timestamp  \\\n",
       "0      1.341300e+09  resolved fixed  5da5952      1.389970e+09   \n",
       "1      1.342610e+09  resolved fixed  8db6c32      1.389890e+09   \n",
       "2      1.386600e+09  resolved fixed  6750d25      1.389820e+09   \n",
       "3      1.382600e+09  verified fixed  7710840      1.389800e+09   \n",
       "4      1.365460e+09  resolved fixed  470f274      1.389720e+09   \n",
       "\n",
       "                                               files  \\\n",
       "0  bundles/org.eclipse.e4.ui.workbench/src/org/ec...   \n",
       "1  bundles/org.eclipse.e4.ui.workbench.renderers....   \n",
       "2  bundles/org.eclipse.ui.workbench/Eclipse UI/or...   \n",
       "3  bundles/org.eclipse.e4.ui.workbench.renderers....   \n",
       "4  bundles/org.eclipse.ui.workbench/Eclipse UI/or...   \n",
       "\n",
       "                                       files_noSpace  \n",
       "0  bundles/org.eclipse.e4.ui.workbench/src/org/ec...  \n",
       "1  bundles/org.eclipse.e4.ui.workbench.renderers....  \n",
       "2  bundles/org.eclipse.ui.workbench/EclipseUI/org...  \n",
       "3  bundles/org.eclipse.e4.ui.workbench.renderers....  \n",
       "4  bundles/org.eclipse.ui.workbench/EclipseUI/org...  "
      ]
     },
     "execution_count": 19,
     "metadata": {},
     "output_type": "execute_result"
    }
   ],
   "source": [
    "df_ui_nospace = pd.concat([df_ui, series_files], axis=1)\n",
    "df_ui_nospace.head()"
   ]
  },
  {
   "cell_type": "code",
   "execution_count": 21,
   "metadata": {
    "collapsed": true
   },
   "outputs": [],
   "source": [
    "df_ui_nospace.to_csv('eclipse_platform_ui_noSpace.csv')"
   ]
  },
  {
   "cell_type": "code",
   "execution_count": null,
   "metadata": {
    "collapsed": true
   },
   "outputs": [],
   "source": []
  }
 ],
 "metadata": {
  "kernelspec": {
   "display_name": "Python 3",
   "language": "python",
   "name": "python3"
  },
  "language_info": {
   "codemirror_mode": {
    "name": "ipython",
    "version": 3
   },
   "file_extension": ".py",
   "mimetype": "text/x-python",
   "name": "python",
   "nbconvert_exporter": "python",
   "pygments_lexer": "ipython3",
   "version": "3.5.2"
  }
 },
 "nbformat": 4,
 "nbformat_minor": 1
}
